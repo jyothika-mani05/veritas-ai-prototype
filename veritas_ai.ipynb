{
  "nbformat": 4,
  "nbformat_minor": 0,
  "metadata": {
    "colab": {
      "provenance": []
    },
    "kernelspec": {
      "name": "python3",
      "display_name": "Python 3"
    },
    "language_info": {
      "name": "python"
    }
  },
  "cells": [
    {
      "cell_type": "code",
      "execution_count": 1,
      "metadata": {
        "id": "0BqtsXK5Xnbw"
      },
      "outputs": [],
      "source": [
        "!pip install streamlit pyngrok google-cloud-aiplatform -q"
      ]
    },
    {
      "cell_type": "code",
      "source": [
        "%%writefile app.py\n",
        "import streamlit as st\n",
        "import google.generativeai as genai\n",
        "import os\n",
        "\n",
        "# --- Configuration ---\n",
        "st.set_page_config(layout=\"wide\", page_title=\"Veritas AI\")\n",
        "\n",
        "# Get API key from the environment variable set in the launch cell\n",
        "GCP_API_KEY = userdata.get('GCP_API_KEY')\n",
        "\n",
        "# Configure the Generative AI client\n",
        "if API_KEY:\n",
        "    genai.configure(api_key=API_KEY)\n",
        "    model = genai.GenerativeModel('gemini-2.5-pro')\n",
        "else:\n",
        "    model = None\n",
        "\n",
        "# --- Function to call Gemini AI ---\n",
        "def get_veritas_analysis(content):\n",
        "    \"\"\"\n",
        "    Sends content to the Gemini Pro model for misinformation analysis.\n",
        "    \"\"\"\n",
        "    # This is the \"prompt\" that instructs the AI\n",
        "    prompt = f\"\"\"\n",
        "    Analyze the following text for misinformation. Provide your analysis in three parts:\n",
        "    1.  **Credibility Score:** A score from 0 (completely false) to 100 (highly credible).\n",
        "    2.  **Summary:** A brief, neutral summary of the main claims in the text.\n",
        "    3.  **Red Flags:** A bulleted list of any manipulative language, logical fallacies, lack of sources, or other red flags you detect. If none, say \"No significant red flags detected.\"\n",
        "\n",
        "    Here is the text to analyze:\n",
        "    ---\n",
        "    {content}\n",
        "    ---\n",
        "    \"\"\"\n",
        "\n",
        "    try:\n",
        "        response = model.generate_content(prompt)\n",
        "        return response.text\n",
        "    except Exception as e:\n",
        "        # Provide a more user-friendly error message\n",
        "        error_message = str(e)\n",
        "        if \"API key not valid\" in error_message:\n",
        "            return \"An error occurred: Your Google Cloud API key is not valid. Please check it in the Colab Secrets.\"\n",
        "        else:\n",
        "            return f\"An error occurred: {error_message}\"\n",
        "\n",
        "# --- Streamlit User Interface ---\n",
        "st.title(\"🛡️ Veritas AI – Your Shield Against Deception\")\n",
        "st.write(\"An AI-powered tool to analyze text for potential misinformation and manipulative language.\")\n",
        "\n",
        "user_input = st.text_area(\"Paste the text or article you want to analyze:\", height=250)\n",
        "\n",
        "if st.button(\"🔎 Analyze Content\"):\n",
        "    if not user_input:\n",
        "        st.error(\"Please paste some text to analyze.\")\n",
        "    elif not model:\n",
        "        st.error(\"Google Cloud API Key not configured. Please set the 'GCP_API_KEY' in your Colab Secrets and restart the runtime.\")\n",
        "    else:\n",
        "        with st.spinner('AI is analyzing the content... This may take a moment.'):\n",
        "            analysis_result = get_veritas_analysis(user_input)\n",
        "\n",
        "            st.subheader(\"Analysis Report\")\n",
        "            st.markdown(analysis_result)"
      ],
      "metadata": {
        "colab": {
          "base_uri": "https://localhost:8080/"
        },
        "id": "9bd9kRaRYLpj",
        "outputId": "83eb142a-fd4a-467e-8ea5-440f1b981bb3"
      },
      "execution_count": 8,
      "outputs": [
        {
          "output_type": "stream",
          "name": "stdout",
          "text": [
            "Overwriting app.py\n"
          ]
        }
      ]
    },
    {
      "cell_type": "code",
      "source": [
        "import os\n",
        "from pyngrok import ngrok\n",
        "from google.colab import userdata\n",
        "\n",
        "# --- Get Ngrok token from Colab secrets ---\n",
        "NGROK_TOKEN = userdata.get('NGROK_AUTHTOKEN')\n",
        "#GCP_API_KEY = userdata.get('GCP_API_KEY')\n",
        "# --- Kill any old processes to ensure a clean start ---\n",
        "!pkill -f streamlit\n",
        "!pkill -f ngrok\n",
        "\n",
        "# --- Start Streamlit in the background ---\n",
        "# nohup keeps it running, and &> saves output to a log file for debugging\n",
        "!nohup streamlit run app.py --server.port 8501 &> streamlit.log &\n",
        "\n",
        "# --- Launch the Ngrok tunnel to make the app public ---\n",
        "ngrok.set_auth_token(NGROK_TOKEN)\n",
        "public_url = ngrok.connect(addr=\"8501\", proto=\"http\")\n",
        "\n",
        "print(\"================================================================================\")\n",
        "print(\"✅ Your Veritas AI prototype is LIVE!\")\n",
        "print(f\"🌍 Public URL: {public_url}\")\n",
        "print(\"================================================================================\")\n",
        "print(\"NOTE: This cell must remain running to keep your app live.\")\n",
        "\n",
        "# This loop keeps the Colab cell running, which keeps your app alive.\n",
        "try:\n",
        "    while True:\n",
        "        pass\n",
        "except KeyboardInterrupt:\n",
        "    print(\"\\nShutting down...\")\n",
        "    ngrok.kill()"
      ],
      "metadata": {
        "id": "_brZPlxlYzPm",
        "colab": {
          "base_uri": "https://localhost:8080/"
        },
        "outputId": "152dd30e-6ec4-4249-f3a2-5c7a618393e3"
      },
      "execution_count": 9,
      "outputs": [
        {
          "output_type": "stream",
          "name": "stdout",
          "text": [
            "================================================================================\n",
            "✅ Your Veritas AI prototype is LIVE!\n",
            "🌍 Public URL: NgrokTunnel: \"https://923bfb29c10a.ngrok-free.app\" -> \"http://localhost:8501\"\n",
            "================================================================================\n",
            "NOTE: This cell must remain running to keep your app live.\n",
            "\n",
            "Shutting down...\n"
          ]
        }
      ]
    }
  ]
}